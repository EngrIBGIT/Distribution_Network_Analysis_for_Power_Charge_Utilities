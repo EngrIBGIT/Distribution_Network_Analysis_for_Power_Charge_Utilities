{
 "cells": [
  {
   "cell_type": "markdown",
   "id": "8531e981-3a08-4d42-ba3b-beca6fdc61f8",
   "metadata": {},
   "source": [
    "# Distribution_Network_Analysis for \"Power Charge Utilities\""
   ]
  },
  {
   "cell_type": "code",
   "execution_count": null,
   "id": "0e4a03d0-d9ca-4e05-be14-9637ed4db90d",
   "metadata": {},
   "outputs": [],
   "source": [
    "# Import Libraries\n",
    "#!pip install geopandas\n",
    "import pandas as pd\n",
    "import numpy as np\n",
    "import matplotlib.pyplot as plt\n",
    "import seaborn as sns\n",
    "import geopandas as gdp"
   ]
  },
  {
   "cell_type": "code",
   "execution_count": null,
   "id": "d481d5e1-78fb-4d2f-8383-24aeab774822",
   "metadata": {},
   "outputs": [],
   "source": [
    "# Load Data into Notebook\n",
    "Dd_ev = pd.read_csv('AMDARi/synthetic_ev_distribution_data.csv')\n",
    "Gd_ev = pd.read_csv('AMDARi/synthetic_geospatial_data.csv')\n",
    "Wd_ev = pd.read_csv('AMDARi/synthetic_weather_data.csv')"
   ]
  },
  {
   "cell_type": "code",
   "execution_count": null,
   "id": "01028378-fe3a-4433-9394-07d7113c6a84",
   "metadata": {},
   "outputs": [],
   "source": [
    "Dd_ev.head()"
   ]
  },
  {
   "cell_type": "code",
   "execution_count": null,
   "id": "9f94f2a6-2d19-41c7-b0f7-8bc00a2ed3b7",
   "metadata": {},
   "outputs": [],
   "source": [
    "Gd_ev.head()"
   ]
  },
  {
   "cell_type": "code",
   "execution_count": null,
   "id": "0f0dfe2a-8b92-4ea4-9455-36e22738ef74",
   "metadata": {},
   "outputs": [],
   "source": [
    "Wd_ev.head()"
   ]
  },
  {
   "cell_type": "code",
   "execution_count": null,
   "id": "076818c5-23e4-422b-a051-31fba5f37ead",
   "metadata": {},
   "outputs": [],
   "source": [
    "# Check Data Types and Missing Values\n",
    "Dd_ev.info()\n",
    "\n",
    "# Description of Numerical Columns\n",
    "Dd_ev.describe()"
   ]
  },
  {
   "cell_type": "code",
   "execution_count": null,
   "id": "bdd16440-870a-4ad0-b51d-6386107382fd",
   "metadata": {},
   "outputs": [],
   "source": [
    "# Check Data Types and Missing Values\n",
    "Gd_ev.info()\n",
    "\n",
    "# Description of Numerical Columns\n",
    "Gd_ev.describe()"
   ]
  },
  {
   "cell_type": "code",
   "execution_count": null,
   "id": "3a9753c3-457e-4026-b4cf-58abbc7e6665",
   "metadata": {},
   "outputs": [],
   "source": [
    "# Check Data Types and Missing Values\n",
    "Wd_ev.info()\n",
    "\n",
    "# Description of Numerical Columns\n",
    "Wd_ev.describe()"
   ]
  },
  {
   "cell_type": "markdown",
   "id": "6367e2de-b31d-4c1e-b736-ca6f54a913a3",
   "metadata": {},
   "source": [
    "## Exploratory Data Analysis\n",
    "Deals with both Univariate (Single data point) and Bivariate(Two Data Point) Data Analysis\n",
    "\n",
    "### Univariate Data Analysis\n",
    "- Visualize the distribution of electricity Consumption.\n",
    "- Analyze the distribution of EV types, charging habits, customer type.\n",
    "\n",
    "\n",
    "### Bivariate Data Analysis\n",
    "- Using geospatial data to visualize locations and EV Charging Stations.\n",
    "- Analyze capacity of transmission lines."
   ]
  },
  {
   "cell_type": "markdown",
   "id": "e019fc56-50c1-4e58-8aad-d07afd8a8526",
   "metadata": {},
   "source": [
    "### Univariate Analysis"
   ]
  },
  {
   "cell_type": "code",
   "execution_count": null,
   "id": "cd06d517-fe56-4b51-b252-ad76dac2013e",
   "metadata": {},
   "outputs": [],
   "source": [
    "#Set the style and Color Palettes (For Uniformity of subplot grids)\n",
    "sns.set(style= 'whitegrid')\n",
    "sns.set_palette('pastel')\n",
    "\n",
    "#Create a 2 X 2 subplot grid\n",
    "fig, axes = plt.subplots(2, 2, figsize=(10, 6))\n",
    "\n",
    "#Plot distribution of electricity consumption\n",
    "sns.histplot(data= Dd_ev, x = 'Electricity_Consumption (kWh)', bins = 30, kde = True, ax=axes [0, 0])\n",
    "axes[0, 0]. set_title('Distribution of Electricity Consumption')\n",
    "axes[0, 0]. set_xlabel('Electricity Consumption')\n",
    "axes[0, 0]. set_ylabel('Frequency')\n",
    "\n",
    "#Plot distribution of EV types\n",
    "sns.countplot(data= Dd_ev, y = 'EV_Type', ax=axes [0, 1])\n",
    "axes[0, 1]. set_title('Distribution of EV types')\n",
    "axes[0, 1]. set_xlabel('Count')\n",
    "axes[0, 1]. set_ylabel('EV Type')\n",
    "\n",
    " #Plot distribution of Charging Habits\n",
    "sns.countplot(data= Dd_ev, y = 'Charging_Habit', ax=axes [1, 0])\n",
    "axes[1, 0]. set_title('Distribution of Charging_Habit')\n",
    "axes[1, 0]. set_xlabel('Count')\n",
    "axes[1, 0]. set_ylabel('Charging_Habit')\n",
    "\n",
    " #Plot distribution of Customer Type\n",
    "sns.countplot(data= Dd_ev, y = 'Customer_Type', ax=axes [1, 1])\n",
    "axes[1, 1]. set_title('Distribution of Customer Type')\n",
    "axes[1, 1]. set_xlabel('Count')\n",
    "axes[1, 1]. set_ylabel('Customer Type')\n",
    "\n",
    "# Adjust Layout\n",
    "plt.tight_layout()\n",
    "\n",
    "# Show plots\n",
    "plt.show()"
   ]
  },
  {
   "cell_type": "markdown",
   "id": "4d9bd609-48e0-438e-9006-2f0973b06fc6",
   "metadata": {},
   "source": [
    "### Insights\n",
    "From the Above subplots we can see the following from the visuals:\n",
    "- Distribution consumption is centered around 500 kWh with instances of higher and lower consumptions \n",
    "- Most Common Distribution of EV types is the Electric Scooter with a count of 200 numbers followed by Electric Cars with 150 numbers and finally Electric Bikes with about 120 numbers\n",
    "- Most Customers charging Habit is Daily, followed by Occasionally and weekly\n",
    "- Most Customers are Commercial Followed by Residential with Industrial being the least"
   ]
  },
  {
   "cell_type": "markdown",
   "id": "06ed6e7b-08f3-487f-9075-a0774b8afb58",
   "metadata": {},
   "source": [
    "### Bivariate Analysis"
   ]
  },
  {
   "cell_type": "code",
   "execution_count": null,
   "id": "85bd5da2-410f-4644-930e-b1b3ea4082b7",
   "metadata": {},
   "outputs": [],
   "source": [
    "#Extract Lat and Long For EV charging stations\n",
    "Dd_ev['ev_latitude'] = Dd_ev['EV_Charging_Station_Location'].apply(\n",
    "    lambda x: float(x.split(\",\")[0].replace(\"(\", \"\").strip()))\n",
    "Dd_ev['ev_longitude'] = Dd_ev['EV_Charging_Station_Location'].apply(\n",
    "    lambda x: float(x.split(\",\")[1].replace(\")\", \"\").strip()))\n",
    "\n",
    "#Extract Lat and Long Substation Locations\n",
    "#Extract Lat and Long For EV charging stations\n",
    "Gd_ev['Substation_latitude'] = Gd_ev['Substation_Location'].apply(\n",
    "    lambda x: float(x.split(\",\")[0].replace(\"(\", \"\").strip()))\n",
    "Gd_ev['Substation_longitude'] = Gd_ev['Substation_Location'].apply(\n",
    "    lambda x: float(x.split(\",\")[1].replace(\")\", \"\").strip()))\n",
    "\n",
    "#Drop the original location columns to clean the dataframes\n",
    "Dd_ev = Dd_ev.drop(columns = ['EV_Charging_Station_Location'])\n",
    "Gd_ev = Gd_ev.drop(columns = ['Substation_Location'])"
   ]
  },
  {
   "cell_type": "code",
   "execution_count": null,
   "id": "306ae256-2087-42ad-b842-6b125e9ab0ab",
   "metadata": {},
   "outputs": [],
   "source": [
    "Dd_ev.head()"
   ]
  },
  {
   "cell_type": "code",
   "execution_count": null,
   "id": "f4309b44-1e91-46d5-b190-6273a5fbaad1",
   "metadata": {},
   "outputs": [],
   "source": [
    "Gd_ev.head()"
   ]
  },
  {
   "cell_type": "code",
   "execution_count": null,
   "id": "32a663a4-8500-47b7-8c64-24501eba6a4a",
   "metadata": {},
   "outputs": [],
   "source": [
    "# Convert dataframes to Geodataframe\n",
    "ev_gdf = gdp.GeoDataFrame(Dd_ev,\n",
    "                          geometry=gdp.points_from_xy(Dd_ev.ev_longitude, Dd_ev.ev_latitude))\n",
    "\n",
    "substation_gdf = gdp.GeoDataFrame(Gd_ev,\n",
    "                          geometry=gdp.points_from_xy(Gd_ev.Substation_longitude, Gd_ev.Substation_latitude))\n",
    "\n",
    "#Load the World Map Data\n",
    "world = gdp.read_file(gdp.datasets.get_path('naturalearth_lowres'))\n",
    "\n",
    "#Filter the map to North America\n",
    "north_america = world[world['continent'] == 'North America']\n",
    "\n",
    "#Plot the map for north America\n",
    "fig, ax = plt.subplots(figsize = (10, 5))\n",
    "north_america.boundary.plot(ax=ax, linewidth = 0.5, color = 'black')\n",
    "north_america.plot(ax=ax, color= 'lightblue', edgecolor = 'black')\n",
    "\n",
    "#Plot the substations on the map\n",
    "substation_gdf.plot(ax=ax, marker= 's', markersize = 100, color = 'blue', label = 'substations')\n",
    "\n",
    "#Plot ev charging stations on the map\n",
    "ev_gdf.plot(ax=ax, markersize = 10, color = 'red', label = 'ev charging station', alpha = 0.5)\n",
    "\n",
    "# Set title and axis labels\n",
    "\n",
    "plt.title('Locations of Subtations and its Associated EV Charging Station in North America')\n",
    "plt.xlabel('Longitude')\n",
    "plt.ylabel('Latitude')\n",
    "\n",
    "plt.legend()\n",
    "\n",
    "plt.tight_layout()\n",
    "plt.show()"
   ]
  },
  {
   "cell_type": "markdown",
   "id": "b911ba2f-35d6-49df-99f6-55f3c8c3ed51",
   "metadata": {},
   "source": [
    "### Observations:\n",
    "- From the above map, The Stations are properly distributed throughout North America"
   ]
  },
  {
   "cell_type": "code",
   "execution_count": null,
   "id": "71bae2cc-a7cf-4cc4-b2d2-4bb23cdfbef0",
   "metadata": {},
   "outputs": [],
   "source": [
    "#Import a line to show the connectivity of Ev_Charging Stations to the Substations\n",
    "from shapely.geometry import LineString"
   ]
  },
  {
   "cell_type": "code",
   "execution_count": null,
   "id": "d105ff94-69b0-42d3-a1ac-7b0eb67ab063",
   "metadata": {},
   "outputs": [],
   "source": [
    "# Incoparating shapely line \n",
    "# Zoom in and see Connection of substation to EV charging stations\n",
    "# filter for the first substation\n",
    "selected_substation = Gd_ev.iloc[0]\n",
    "associated_ev = Dd_ev[Dd_ev['Substation_ID'] == selected_substation['Substation_ID']]\n",
    "\n",
    "# Convert to GeoDataFrame\n",
    "ev_gdf_selected = gdp.GeoDataFrame(\n",
    "    associated_ev,\n",
    "    geometry=gdp.points_from_xy(associated_ev.ev_longitude, associated_ev.ev_latitude)\n",
    ")\n",
    "\n",
    "substation_gdf_selected = gdp.GeoDataFrame(\n",
    "    selected_substation.to_frame().transpose(),\n",
    "    geometry=gdp.points_from_xy(\n",
    "    [selected_substation['Substation_longitude']],\n",
    "    [selected_substation['Substation_latitude']]\n",
    "    )\n",
    ")\n",
    "\n",
    "\n",
    "lines_selected = [\n",
    "    (ev_row['ev_longitude'], ev_row['ev_latitude'],\n",
    "     selected_substation['Substation_longitude'],\n",
    "     selected_substation['Substation_latitude'])\n",
    "    for _, ev_row in associated_ev.iterrows()\n",
    "]\n",
    "\n",
    "\n",
    "line_gdf_selected = gdp.GeoDataFrame(\n",
    "    geometry=[LineString([(line[0], line[1]), (line[2], line[3])]) for line in lines_selected]\n",
    ")\n",
    "\n",
    "\n",
    "#Load the World Map Data\n",
    "world = gdp.read_file(gdp.datasets.get_path('naturalearth_lowres'))\n",
    "\n",
    "#Filter the map to North America\n",
    "north_america = world[world['continent'] == 'North America']\n",
    "\n",
    "# Determe the Boundary Box for the Zoomed Area\n",
    "buffer = 10 # degree of buffer\n",
    "minx, miny, maxx, maxy = line_gdf_selected.total_bounds\n",
    "xlim = [minx - buffer, maxx + buffer]\n",
    "ylim = [miny - buffer, maxy + buffer]\n",
    "\n",
    "\n",
    "#Plot the map for North America\n",
    "fig, ax = plt.subplots(figsize = (8, 5))\n",
    "north_america.boundary.plot(ax=ax, linewidth = 0.5, color = 'black')\n",
    "north_america.plot(ax=ax, color= 'lightblue', edgecolor = 'black')\n",
    "\n",
    "#Plot the substations on the map\n",
    "substation_gdf_selected.plot(ax=ax, marker= 's', markersize = 100, color = 'blue', label = 'Selected Substations')\n",
    "\n",
    "#Plot ev charging stations on the map\n",
    "ev_gdf_selected.plot(ax=ax, markersize = 50, color = 'red', label = 'Associated EV Charging Stations', alpha = 0.7)\n",
    "\n",
    "#Plotting Lines Connecting ev_charging Station to Substation\n",
    "line_gdf_selected.plot(ax=ax, linewidth = 0.5, color = 'grey', label = 'connections')\n",
    "\n",
    "#Set to Zoomed limits\n",
    "ax.set_xlim(xlim)\n",
    "ax.set_ylim(ylim)\n",
    "\n",
    "# Set title and axis labels\n",
    "plt.title(f'Zoomed- in View: Connections between {selected_substation[\"Substation_ID\"]} and  Associated EV Charging Stations')\n",
    "plt.xlabel('Longitude')\n",
    "plt.ylabel('Latitude')\n",
    "plt.legend()\n",
    "plt.tight_layout()\n",
    "plt.show()"
   ]
  },
  {
   "cell_type": "code",
   "execution_count": null,
   "id": "41f66db3-3b55-4fae-a77b-94fc2d1d3ac0",
   "metadata": {},
   "outputs": [],
   "source": [
    "# Incoparating shapely line \n",
    "# Zoom in and see Connection of substation to EV charging stations\n",
    "# filter for the first substation\n",
    "selected_substation = Gd_ev.iloc[1]\n",
    "associated_ev = Dd_ev[Dd_ev['Substation_ID'] == selected_substation['Substation_ID']]\n",
    "\n",
    "# Convert to GeoDataFrame\n",
    "ev_gdf_selected = gdp.GeoDataFrame(\n",
    "    associated_ev,\n",
    "    geometry=gdp.points_from_xy(associated_ev.ev_longitude, associated_ev.ev_latitude)\n",
    ")\n",
    "\n",
    "substation_gdf_selected = gdp.GeoDataFrame(\n",
    "    selected_substation.to_frame().transpose(),\n",
    "    geometry=gdp.points_from_xy(\n",
    "    [selected_substation['Substation_longitude']],\n",
    "    [selected_substation['Substation_latitude']]\n",
    "    )\n",
    ")\n",
    "\n",
    "\n",
    "lines_selected = [\n",
    "    (ev_row['ev_longitude'], ev_row['ev_latitude'],\n",
    "     selected_substation['Substation_longitude'],\n",
    "     selected_substation['Substation_latitude'])\n",
    "    for _, ev_row in associated_ev.iterrows()\n",
    "]\n",
    "\n",
    "\n",
    "line_gdf_selected = gdp.GeoDataFrame(\n",
    "    geometry=[LineString([(line[0], line[1]), (line[2], line[3])]) for line in lines_selected]\n",
    ")\n",
    "\n",
    "\n",
    "#Load the World Map Data\n",
    "world = gdp.read_file(gdp.datasets.get_path('naturalearth_lowres'))\n",
    "\n",
    "#Filter the map to North America\n",
    "north_america = world[world['continent'] == 'North America']\n",
    "\n",
    "# Determe the Boundary Box for the Zoomed Area\n",
    "buffer = 10 # degree of buffer\n",
    "minx, miny, maxx, maxy = line_gdf_selected.total_bounds\n",
    "xlim = [minx - buffer, maxx + buffer]\n",
    "ylim = [miny - buffer, maxy + buffer]\n",
    "\n",
    "\n",
    "#Plot the map for North America\n",
    "fig, ax = plt.subplots(figsize = (8, 5))\n",
    "north_america.boundary.plot(ax=ax, linewidth = 0.5, color = 'black')\n",
    "north_america.plot(ax=ax, color= 'lightblue', edgecolor = 'black')\n",
    "\n",
    "#Plot the substations on the map\n",
    "substation_gdf_selected.plot(ax=ax, marker= 's', markersize = 100, color = 'blue', label = 'Selected Substations')\n",
    "\n",
    "#Plot ev charging stations on the map\n",
    "ev_gdf_selected.plot(ax=ax, markersize = 50, color = 'red', label = 'Associated EV Charging Stations', alpha = 0.7)\n",
    "\n",
    "#Plotting Lines Connecting ev_charging Station to Substation\n",
    "line_gdf_selected.plot(ax=ax, linewidth = 0.5, color = 'grey', label = 'connections')\n",
    "\n",
    "#Set to Zoomed limits\n",
    "ax.set_xlim(xlim)\n",
    "ax.set_ylim(ylim)\n",
    "\n",
    "# Set title and axis labels\n",
    "plt.title(f'Zoomed- in View: Connections between {selected_substation[\"Substation_ID\"]} and  Associated EV Charging Stations')\n",
    "plt.xlabel('Longitude')\n",
    "plt.ylabel('Latitude')\n",
    "plt.legend()\n",
    "plt.tight_layout()\n",
    "plt.show()"
   ]
  },
  {
   "cell_type": "markdown",
   "id": "446d1290-eaa0-4965-a570-f838e30e6d3e",
   "metadata": {},
   "source": [
    "### Observations:\n",
    "From the Connections between subtations and  Associated Ev charging Station in North America,\n",
    "we observe that there is connections from sustations to EV Charging Stations "
   ]
  },
  {
   "cell_type": "code",
   "execution_count": null,
   "id": "cef35928-dbd7-4001-bc4f-62e409798cfe",
   "metadata": {},
   "outputs": [],
   "source": [
    "# Incoparating shapely line \n",
    "# Zoom in and see Connection of substation to EV charging stations\n",
    "# filter for the first substation\n",
    "selected_substation = Gd_ev.iloc[2]\n",
    "associated_ev = Dd_ev[Dd_ev['Substation_ID'] == selected_substation['Substation_ID']]\n",
    "\n",
    "# Convert to GeoDataFrame\n",
    "ev_gdf_selected = gdp.GeoDataFrame(\n",
    "    associated_ev,\n",
    "    geometry=gdp.points_from_xy(associated_ev.ev_longitude, associated_ev.ev_latitude)\n",
    ")\n",
    "\n",
    "substation_gdf_selected = gdp.GeoDataFrame(\n",
    "    selected_substation.to_frame().transpose(),\n",
    "    geometry=gdp.points_from_xy(\n",
    "    [selected_substation['Substation_longitude']],\n",
    "    [selected_substation['Substation_latitude']]\n",
    "    )\n",
    ")\n",
    "\n",
    "\n",
    "lines_selected = [\n",
    "    (ev_row['ev_longitude'], ev_row['ev_latitude'],\n",
    "     selected_substation['Substation_longitude'],\n",
    "     selected_substation['Substation_latitude'])\n",
    "    for _, ev_row in associated_ev.iterrows()\n",
    "]\n",
    "\n",
    "\n",
    "line_gdf_selected = gdp.GeoDataFrame(\n",
    "    geometry=[LineString([(line[0], line[1]), (line[2], line[3])]) for line in lines_selected]\n",
    ")\n",
    "\n",
    "\n",
    "#Load the World Map Data\n",
    "world = gdp.read_file(gdp.datasets.get_path('naturalearth_lowres'))\n",
    "\n",
    "#Filter the map to North America\n",
    "north_america = world[world['continent'] == 'North America']\n",
    "\n",
    "# Determe the Boundary Box for the Zoomed Area\n",
    "buffer = 10 # degree of buffer\n",
    "minx, miny, maxx, maxy = line_gdf_selected.total_bounds\n",
    "xlim = [minx - buffer, maxx + buffer]\n",
    "ylim = [miny - buffer, maxy + buffer]\n",
    "\n",
    "\n",
    "#Plot the map for North America\n",
    "fig, ax = plt.subplots(figsize = (8, 5))\n",
    "north_america.boundary.plot(ax=ax, linewidth = 0.5, color = 'black')\n",
    "north_america.plot(ax=ax, color= 'lightblue', edgecolor = 'black')\n",
    "\n",
    "#Plot the substations on the map\n",
    "substation_gdf_selected.plot(ax=ax, marker= 's', markersize = 100, color = 'blue', label = 'Selected Substations')\n",
    "\n",
    "#Plot ev charging stations on the map\n",
    "ev_gdf_selected.plot(ax=ax, markersize = 50, color = 'red', label = 'Associated EV Charging Stations', alpha = 0.7)\n",
    "\n",
    "#Plotting Lines Connecting ev_charging Station to Substation\n",
    "line_gdf_selected.plot(ax=ax, linewidth = 0.5, color = 'grey', label = 'connections')\n",
    "\n",
    "#Set to Zoomed limits\n",
    "ax.set_xlim(xlim)\n",
    "ax.set_ylim(ylim)\n",
    "\n",
    "# Set title and axis labels\n",
    "plt.title(f'Zoomed- in View: Connections between {selected_substation[\"Substation_ID\"]} and  Associated EV Charging Stations')\n",
    "plt.xlabel('Longitude')\n",
    "plt.ylabel('Latitude')\n",
    "plt.legend()\n",
    "plt.tight_layout()\n",
    "plt.show()"
   ]
  },
  {
   "cell_type": "code",
   "execution_count": null,
   "id": "5036c3f0-e988-4ea8-9710-d1e3e5b63358",
   "metadata": {},
   "outputs": [],
   "source": [
    "# Incoparating shapely line \n",
    "# Zoom in and see Connection of substation to EV charging stations\n",
    "# filter for the first substation\n",
    "selected_substation = Gd_ev.iloc[49]\n",
    "associated_ev = Dd_ev[Dd_ev['Substation_ID'] == selected_substation['Substation_ID']]\n",
    "\n",
    "# Convert to GeoDataFrame\n",
    "ev_gdf_selected = gdp.GeoDataFrame(\n",
    "    associated_ev,\n",
    "    geometry=gdp.points_from_xy(associated_ev.ev_longitude, associated_ev.ev_latitude)\n",
    ")\n",
    "\n",
    "substation_gdf_selected = gdp.GeoDataFrame(\n",
    "    selected_substation.to_frame().transpose(),\n",
    "    geometry=gdp.points_from_xy(\n",
    "    [selected_substation['Substation_longitude']],\n",
    "    [selected_substation['Substation_latitude']]\n",
    "    )\n",
    ")\n",
    "\n",
    "\n",
    "lines_selected = [\n",
    "    (ev_row['ev_longitude'], ev_row['ev_latitude'],\n",
    "     selected_substation['Substation_longitude'],\n",
    "     selected_substation['Substation_latitude'])\n",
    "    for _, ev_row in associated_ev.iterrows()\n",
    "]\n",
    "\n",
    "\n",
    "line_gdf_selected = gdp.GeoDataFrame(\n",
    "    geometry=[LineString([(line[0], line[1]), (line[2], line[3])]) for line in lines_selected]\n",
    ")\n",
    "\n",
    "\n",
    "#Load the World Map Data\n",
    "world = gdp.read_file(gdp.datasets.get_path('naturalearth_lowres'))\n",
    "\n",
    "#Filter the map to North America\n",
    "north_america = world[world['continent'] == 'North America']\n",
    "\n",
    "# Determe the Boundary Box for the Zoomed Area\n",
    "buffer = 10 # degree of buffer\n",
    "minx, miny, maxx, maxy = line_gdf_selected.total_bounds\n",
    "xlim = [minx - buffer, maxx + buffer]\n",
    "ylim = [miny - buffer, maxy + buffer]\n",
    "\n",
    "\n",
    "#Plot the map for North America\n",
    "fig, ax = plt.subplots(figsize = (8, 5))\n",
    "north_america.boundary.plot(ax=ax, linewidth = 0.5, color = 'black')\n",
    "north_america.plot(ax=ax, color= 'lightblue', edgecolor = 'black')\n",
    "\n",
    "#Plot the substations on the map\n",
    "substation_gdf_selected.plot(ax=ax, marker= 's', markersize = 100, color = 'blue', label = 'Selected Substations')\n",
    "\n",
    "#Plot ev charging stations on the map\n",
    "ev_gdf_selected.plot(ax=ax, markersize = 50, color = 'red', label = 'Associated EV Charging Stations', alpha = 0.7)\n",
    "\n",
    "#Plotting Lines Connecting ev_charging Station to Substation\n",
    "line_gdf_selected.plot(ax=ax, linewidth = 0.5, color = 'grey', label = 'connections')\n",
    "\n",
    "#Set to Zoomed limits\n",
    "ax.set_xlim(xlim)\n",
    "ax.set_ylim(ylim)\n",
    "\n",
    "# Set title and axis labels\n",
    "plt.title(f'Zoomed- in View: Connections between {selected_substation[\"Substation_ID\"]} and  Associated EV Charging Stations')\n",
    "plt.xlabel('Longitude')\n",
    "plt.ylabel('Latitude')\n",
    "plt.legend()\n",
    "plt.tight_layout()\n",
    "plt.show()"
   ]
  },
  {
   "cell_type": "markdown",
   "id": "e425580e-1e1a-452d-95ed-5f76b69a16f1",
   "metadata": {},
   "source": [
    "### Observations:\n",
    "The Drill Down View of the Connections between substations and  Associated Ev charging Station in North America,\n",
    "- It seems the  subtations are far from the EV Charging Stations"
   ]
  },
  {
   "cell_type": "code",
   "execution_count": null,
   "id": "8382c163-a60c-4acc-94c0-db66d00a8b07",
   "metadata": {},
   "outputs": [],
   "source": [
    "Dd_ev.head(1)"
   ]
  },
  {
   "cell_type": "code",
   "execution_count": null,
   "id": "15613b1a-6b31-44f8-ab21-f7c1ecf83899",
   "metadata": {},
   "outputs": [],
   "source": [
    "## Map of Locations Grouped by Locations and EV type, and Count of Stations\n",
    "grouped_d = Dd_ev.groupby(['ev_latitude', 'ev_longitude', 'EV_Type']).size().reset_index(name='count')\n",
    "\n",
    "#convert grouped data to GeoDataframe\n",
    "grouped_df = gdp.GeoDataFrame(grouped_d,\n",
    "                              geometry=gdp.points_from_xy(grouped_d.ev_longitude, grouped_d.ev_latitude))\n",
    "\n",
    "#Load the World map data and filter for North America\n",
    "world = gdp.read_file(gdp.datasets.get_path('naturalearth_lowres'))\n",
    "north_america = world[world['continent'] == 'North America']\n",
    "\n",
    "#Plot with Zoom for North America\n",
    "fig, ax = plt.subplots(figsize = (12, 6))\n",
    "north_america.boundary.plot(ax=ax, linewidth = 0.5, color = 'black')\n",
    "north_america.plot(ax=ax, color= 'lightblue', edgecolor = 'black')\n",
    "\n",
    "#Define Colours of EV Type:\n",
    "colors = {'Electric Car': 'red', 'Electric Scooter': 'blue', 'Electric Bike': 'Green'}\n",
    "\n",
    "# Plot EV Type\n",
    "for ev_type, color in colors.items():\n",
    "    sub_df = grouped_df[grouped_df['EV_Type'] == ev_type]  \n",
    "    sub_df.plot(ax=ax, markersize=sub_df['count']*20, color=color, label=ev_type, alpha=0.7)\n",
    "\n",
    "# Set title and axis labels\n",
    "plt.title('Distributions of Charging Stations by Type and Frequency in North America')\n",
    "plt.xlabel('Longitude')\n",
    "plt.ylabel('Latitude')\n",
    "plt.legend()\n",
    "plt.tight_layout()\n",
    "plt.show()"
   ]
  },
  {
   "cell_type": "markdown",
   "id": "52cee700-f698-4628-b9ee-e89ef1fd4d40",
   "metadata": {},
   "source": [
    "### Observation:\n",
    "From the Observations\n",
    "- EV Charging stations by Types is widely spreadout in North America i.e wide distribution in North America"
   ]
  },
  {
   "cell_type": "markdown",
   "id": "58f089f2-df5e-4f14-b356-b39dc172ded2",
   "metadata": {},
   "source": [
    "### Network Capacty Assessment:\n",
    "To carryout the network capacity assement of the substations (From the Geospatial Data, and Distributions data)\n",
    "- Calculate the total electricity consumption for each substation\n",
    "- Compare the total electricity consumption with the transmission line capacity"
   ]
  },
  {
   "cell_type": "code",
   "execution_count": null,
   "id": "d833f93e-d5f6-40b0-ba4f-55ca1f197899",
   "metadata": {},
   "outputs": [],
   "source": [
    "#Group the EV Distribution data by the Substation_ID and Calculate the total electricity consumption for each substation\n",
    "total_consumption_per_substation = Dd_ev.groupby('Substation_ID')['Electricity_Consumption (kWh)'].sum().reset_index()\n",
    "\n",
    "#Merge the total consumption data with geospatial data.\n",
    "network_capacity_data = pd.merge(Gd_ev, total_consumption_per_substation, on = 'Substation_ID')\n",
    "\n",
    "#Rename Column for better understanding\n",
    "network_capacity_data.rename(columns= {'Electricity_Consumption (kWh)': 'Total_Consumption (kWh)'}, inplace = True)\n",
    "\n",
    "#Calculate ratio of total consumption to transmission line (Metrics to define if an area reaches its potential or is overloaded or underloaded)\n",
    "#Note the conversion: 1MW = 1000kWh\n",
    "\n",
    "network_capacity_data['Consumption_to_Capacity_Ratio'] = network_capacity_data['Total_Consumption (kWh)']/(network_capacity_data['Transmission_Line_Capacity (MW)']* 1000)\n"
   ]
  },
  {
   "cell_type": "code",
   "execution_count": null,
   "id": "a5d5310f-9872-48e7-941f-a95d2248eb77",
   "metadata": {},
   "outputs": [],
   "source": [
    "network_capacity_data.head()"
   ]
  },
  {
   "cell_type": "code",
   "execution_count": null,
   "id": "ce5e09d1-dedd-43b0-8aaf-939061670f53",
   "metadata": {},
   "outputs": [],
   "source": [
    "# IMport Shapely to help geodata\n",
    "from shapely.geometry import Point"
   ]
  },
  {
   "cell_type": "code",
   "execution_count": null,
   "id": "db9fecf2-958e-4024-a9c1-d54ba2f4ff6c",
   "metadata": {},
   "outputs": [],
   "source": [
    "# Create GeoDataFrame for the network Capacity for the dataframe\n",
    "from shapely.geometry import Point\n",
    "\n",
    "# Assuming network_capacity_data contains columns 'Substation_longitude' and 'Substation_latitude'\n",
    "geometry_network_capacity = [Point(lon, lat) for lon, lat in zip(network_capacity_data['Substation_longitude'], network_capacity_data['Substation_latitude'])]\n",
    "\n",
    "\n",
    "gdf_network_capacity = gdp.GeoDataFrame(network_capacity_data, geometry=geometry_network_capacity)\n",
    "\n",
    "# Plot in chloropleth style\n",
    "fig, ax = plt.subplots(figsize = (8, 12))\n",
    "north_america.plot(ax=ax, color = 'lightgrey', edgecolor = 'black')\n",
    "gdf_network_capacity.plot(column= 'Consumption_to_Capacity_Ratio', cmap= 'coolwarm', legend = True,\n",
    "                         marker='s', markersize=100, ax = ax, legend_kwds={'label': \"Consumption to Capacity Ratio\", 'orientation': \"horizontal\"})\n",
    "ax.set_title(\"Consumption to Capacity Ratio of Substations\")\n",
    "ax.set_xlabel(\"Longitude\")\n",
    "ax.set_ylabel(\"Latitude\")\n",
    "plt.tight_layout()\n",
    "plt.show()"
   ]
  },
  {
   "cell_type": "markdown",
   "id": "7d1e2aee-cf48-4618-999a-cb302ebffd19",
   "metadata": {},
   "source": [
    "## Observation:\n",
    "- The Plot show areas Potential capacity overload in Red and probable Lower capacity loading area in Blue, indicating network capacity is sufficient.\n",
    "- Further investigaations needed for areas in read to be able to quantify if truely they are overloaded or potential overload.\n",
    "- Check the correlations"
   ]
  },
  {
   "cell_type": "code",
   "execution_count": null,
   "id": "9626381c-ffba-4d0c-b11c-bc31d703a2da",
   "metadata": {},
   "outputs": [],
   "source": [
    "Gd_ev.head(1)"
   ]
  },
  {
   "cell_type": "code",
   "execution_count": null,
   "id": "67846fc5-e0f6-4883-916d-f06cc27fd3bd",
   "metadata": {},
   "outputs": [],
   "source": [
    "# Investigate\n",
    "# Groupby Substation_ID for number of EVs\n",
    "ev_counts = Dd_ev.groupby('Substation_ID')['Number_of_EVs'].sum().reset_index()\n",
    "\n",
    "#merge network cnetwork_capacity_data with EV cev_counts\n",
    "final_data = pd.merge(ev_counts, network_capacity_data, on= \"Substation_ID\")\n",
    "\n",
    "#CORRELATION\n",
    "correlation_ratio = final_data['Number_of_EVs'].corr(final_data['Consumption_to_Capacity_Ratio'])\n",
    "\n",
    "correlation_ratio"
   ]
  },
  {
   "cell_type": "code",
   "execution_count": null,
   "id": "3a6723f2-d841-4b89-a278-0260b6d63846",
   "metadata": {},
   "outputs": [],
   "source": [
    "# Scatter Plot with regresion line\n",
    "plt.figure(figsize = (10, 5))\n",
    "sns.regplot(x='Number_of_EVs', y = 'Consumption_to_Capacity_Ratio', data = final_data, scatter_kws={'s': 50}, line_kws={'color':'red'}, ci=None)\n",
    "plt.xlabel('Number of EVs')\n",
    "plt.ylabel('Consumption to Capacity Ratio')\n",
    "plt.grid(True)\n",
    "plt.tight_layout\n",
    "plt.show()"
   ]
  },
  {
   "cell_type": "markdown",
   "id": "2b207331-eb1f-4db0-96ed-1b12e35d8585",
   "metadata": {},
   "source": [
    "## Observation:\n",
    "There is no correllation from the plot thus indicating weak correlation.\n",
    "- Hence the number of EV attached to a substation does not necessrily lead to overload\n",
    "- Number of EV does not lead to oveload"
   ]
  },
  {
   "cell_type": "markdown",
   "id": "082b2da2-2aad-4bfc-921f-1088321b3556",
   "metadata": {},
   "source": [
    "## Identifying Bottle Necks:\n",
    "-By analyzing the map we can identify the substations and areas that are potential bottlenecks in the distribution network. These are the areas where the Consumption_to_Capacity_Ratio is high\n",
    "- By filtering the substations with a Consumption_to_Capacity_Ratio close to or greater than 1, to see substations where immediate action and investment is necessary to prevent overload and ensure reliable delivery of elecricity\n"
   ]
  },
  {
   "cell_type": "code",
   "execution_count": null,
   "id": "434720af-1f01-49a2-9cbf-c31bf8182330",
   "metadata": {},
   "outputs": [],
   "source": [
    "#Filtering Consumption_to_Capacity_Ratio (c2C) greater than 1\n",
    "bottleneck_substation = network_capacity_data[network_capacity_data['Consumption_to_Capacity_Ratio'] >= 0.9]\n",
    "bottleneck_substation"
   ]
  },
  {
   "cell_type": "markdown",
   "id": "69cf5e62-7c12-4ce9-8a37-0237d897133a",
   "metadata": {},
   "source": [
    "## Observation\n",
    "- From the data frame there is no Consumption_to_Capacity_Ratio close to or greater than 1, hence no imediate crucial bottle necks.\n",
    "* Hence from the below visual of Consumption to Capacity Ratio of Substations;"
   ]
  },
  {
   "cell_type": "code",
   "execution_count": null,
   "id": "5219b9e3-079d-4e30-9fc5-af042632f472",
   "metadata": {},
   "outputs": [],
   "source": [
    "# Assuming network_capacity_data contains columns 'Substation_longitude' and 'Substation_latitude'\n",
    "geometry_network_capacity = [Point(lon, lat) for lon, lat in zip(network_capacity_data['Substation_longitude'], network_capacity_data['Substation_latitude'])]\n",
    "\n",
    "\n",
    "gdf_network_capacity = gdp.GeoDataFrame(network_capacity_data, geometry=geometry_network_capacity)\n",
    "\n",
    "# Plot in chloropleth style\n",
    "fig, ax = plt.subplots(figsize = (8, 12))\n",
    "north_america.plot(ax=ax, color = 'lightgrey', edgecolor = 'black')\n",
    "gdf_network_capacity.plot(column= 'Consumption_to_Capacity_Ratio', cmap= 'coolwarm', legend = True,\n",
    "                         marker='s', markersize=100, ax = ax, legend_kwds={'label': \"Consumption to Capacity Ratio\", 'orientation': \"horizontal\"})\n",
    "ax.set_title(\"Consumption to Capacity Ratio of Substations\")\n",
    "ax.set_xlabel(\"Longitude\")\n",
    "ax.set_ylabel(\"Latitude\")\n",
    "plt.tight_layout()\n",
    "plt.show()"
   ]
  },
  {
   "cell_type": "markdown",
   "id": "806c3ed7-3879-4137-aac0-d1c3d0b5d53d",
   "metadata": {},
   "source": [
    "### It shows a need for a closer look at the red colorations to avoid any future bottlenecks"
   ]
  },
  {
   "cell_type": "markdown",
   "id": "7b102ce8-7ed3-4587-8c43-4581467f7196",
   "metadata": {},
   "source": [
    "## Optimizing Network Upgrades\n",
    "For optimizing network upgrades, focus on substations with potential to have high consumption_to_Capacity_Ration. Upgrading the transmission lines or adding additional capacity in these areas can help in managing the potential to have increased load effectively and ensuring reliability.\n",
    "\n",
    "`Note the analysis:\n",
    "- The Geographc distribution of EV charging stations where EV charging stations are quite far from the Substations\n",
    "Consideration should be given to;\n",
    "- Potential Future groeth in EV adoption in different areas\n",
    "- Costs associated with different upgrade options."
   ]
  },
  {
   "cell_type": "code",
   "execution_count": null,
   "id": "2511fc5f-7a07-451f-a5f7-290dfb62f3fe",
   "metadata": {},
   "outputs": [],
   "source": [
    "top_5_substations = network_capacity_data.nlargest(5, 'Consumption_to_Capacity_Ratio')\n",
    "top_5_substations"
   ]
  },
  {
   "cell_type": "markdown",
   "id": "8d01ed1f-fb14-4cf5-ab41-3e03ab5c88d8",
   "metadata": {},
   "source": [
    "## Correlation with weather Data Anaysis\n",
    "- nalyzing the correlation between weather data and electricity consumption can provide insights into the weather conditions affecting the distribution network."
   ]
  },
  {
   "cell_type": "code",
   "execution_count": null,
   "id": "d9882815-f81e-4924-a780-20e774728803",
   "metadata": {},
   "outputs": [],
   "source": [
    "Wd_ev.head(1)"
   ]
  },
  {
   "cell_type": "code",
   "execution_count": null,
   "id": "4b41fc7b-d11f-492f-8f03-77816d244e07",
   "metadata": {},
   "outputs": [],
   "source": [
    "Dd_ev.head(1)"
   ]
  },
  {
   "cell_type": "code",
   "execution_count": null,
   "id": "7a86178d-1d0f-4bbf-8be2-9a8bc8faac9b",
   "metadata": {},
   "outputs": [],
   "source": [
    "# Merge weather Data with Distribution Data\n",
    "merged_data = pd.merge(Dd_ev, Wd_ev, on= ['Timestamp', 'Substation_ID'])\n",
    "\n",
    "#Calculate the correlationbetween weather condition and electricity consumption\n",
    "correlation_matrix = merged_data[['Electricity_Consumption (kWh)', 'Temperature (°C)', 'Precipitation (mm)', ]].corr()\n",
    "\n",
    "# Display the cocorrelation_matrix\n",
    "correlation_matrix"
   ]
  },
  {
   "cell_type": "code",
   "execution_count": null,
   "id": "75595eef-57a6-4878-958a-0380b805d051",
   "metadata": {},
   "outputs": [],
   "source": [
    "# Display the plot\n",
    "# Electricity Consumption Vs temp\n",
    "plt.figure(figsize=(8, 5))\n",
    "sns.scatterplot(data=merged_data, x= 'Temperature (°C)', y='Electricity_Consumption (kWh)', alpha = 0.6)\n",
    "plt.title('Electricity Vs Temp')\n",
    "plt.xlabel('Temp')\n",
    "plt.ylabel('Electricity')\n",
    "plt.show()\n",
    "\n",
    "\n",
    "\n",
    "# Electricity Consumption Vs Precipitation\n",
    "plt.figure(figsize=(8, 5))\n",
    "sns.scatterplot(data=merged_data, x= 'Precipitation (mm)', y='Electricity_Consumption (kWh)', alpha = 0.6)\n",
    "plt.title('Electricity Vs Prep')\n",
    "plt.xlabel('Prep')\n",
    "plt.ylabel('Electricity')\n",
    "plt.show()"
   ]
  },
  {
   "cell_type": "markdown",
   "id": "fffe2bf4-1ff2-4757-b9f5-621ff84500ad",
   "metadata": {},
   "source": [
    "### Observations:\n",
    "There is seems not to be any correlation between betwen the plot values:abs\n",
    "- For Electricity Vs Temperature there is no clear relationship as the data points are all scattered.\n",
    "- Same Applies for Electricity Vs Precipitation as the data points are also scattered.\n",
    "\n",
    "Based on the current temperature and precipitation factors, they do not have correlation with electricity consumption, this suggests, these factors do not influence electricity consumption in the distribution network.\n",
    "It is still important to consider temperature and precipitation which are weather data for network analysis as extreme weather conditions can have impact on distribution network and its component, potentially leading to outages and other issues. "
   ]
  },
  {
   "cell_type": "markdown",
   "id": "4c495516-2523-4948-b204-83828fbe5260",
   "metadata": {},
   "source": [
    "## INSIGHTS:\n",
    "\n",
    "a. Electricity Consumption. The Electricity consumption is mostly centered around 500kWh, with with instances of higher and lower consumptions. This indicates varied demand at different times and locations.\n",
    "\n",
    "b. EV Types and Charging Habits: Electric scooters is the most common types of EVs. Most customers charge thier EVs daily, indicating a consistent daily load on the distribution network\n",
    "\n",
    "c. Consumer Type: Commercial Customers malke up the most consumer types.\n",
    "\n",
    "d. Geospatial Distribution: The spatial distribution od substations and EV charging stations is widespread.\n",
    "\n",
    "e. Geospatial Distribution: The EV charging station seems to be far from its corresponding substation\n",
    "\n",
    "f. Network Capacity: Some substations have high Consumption_to_Capacity_Ratio, indicating potentialbottlenecks and overloads in the network. There is also no correlation with the number of EVs per station and the Consumption_to_Capacity_Ratio, this shows that Number of EVs is not a factor for overload.\n",
    "                                                                                                                                                                                                                                                                                                 \n",
    "g. Weather Correlation: The correlation between weather conditions (temperature and precipitation) is weak inthe current dataset, suggesting that other factors might be more influencial in affecting electricity consumption\n",
    "    "
   ]
  },
  {
   "cell_type": "markdown",
   "id": "83241c78-e5ce-46f4-91a2-8548ff054e1b",
   "metadata": {},
   "source": [
    "## The Optimization Strategy/Recommendation\n",
    "Based on the analysis of the busniess problem at hand, the following should be incoporated into the business;\n",
    "1. Potential Substation Upgrades: Prioritize upgrades at substations where the Consumption_to_Capacity_Ration is high, indicating potential overloads, upgrade the transmission lines because the EV Charging Stations are too far from thier corresponding Substations.\n",
    "\n",
    "2. Geospatial Analysis for Upgrade Planning: Use geospatial nalysis to determine the optimal locations for new substations or upgrade to existing ones. Consider factors like the proximity to high load demand areas(areas with high consumption to capacity ratio) and geograpical constraints.\n",
    "\n",
    "3. Demand Side Management: Implement demand-side management strategies to manage the load on the grid. Encourage customers to change thier EVs during off-peak hours through incentives to dynamic pricing.\n",
    "\n",
    "4. Advanced Monitoring and Analytics: Deploy advanced Monitoring systems to continously monitor the health and performance of distribution network. Use analytics to predict increased capacity and take preventive action.\n",
    "\n",
    "5. Cost-Benefit-Analysis: Conduct a comprehensive cost benefit analysis to differentiate upgrade options, Consider factors like the cost of upgrades, operational costs, poetential revenue from increased capacity and the impact on service relativity and customer satisfaction\n",
    "\n",
    "6. Customer Engagemen: Enage with customers to undersatnd thier needs and expectations. Provide Clear communication about network upgrades and how they will enhance service relaibility and meet the growing demand for EV charging.\n",
    "\n",
    "7. Continous Improvement: Continously monitor and assess the performance of the didtribution network. Gather feedback from the customers and other stakeholders and use this feedback to make urhter improvements and optimizations.\n",
    "\n",
    "By Following these steps, Power Charge Utilities can develop an effective optimization startegy to maintain the increased load demand from EV charging stations, ensure the relaibility and resilience of the ditribution network and meet the expectations of customers while all optimizing costs and ensuring regulatory compliance.\n",
    "                                                                                                                                                                                                                    "
   ]
  }
 ],
 "metadata": {
  "kernelspec": {
   "display_name": "Python 3 (ipykernel)",
   "language": "python",
   "name": "python3"
  },
  "language_info": {
   "codemirror_mode": {
    "name": "ipython",
    "version": 3
   },
   "file_extension": ".py",
   "mimetype": "text/x-python",
   "name": "python",
   "nbconvert_exporter": "python",
   "pygments_lexer": "ipython3",
   "version": "3.11.5"
  },
  "widgets": {
   "application/vnd.jupyter.widget-state+json": {
    "state": {},
    "version_major": 2,
    "version_minor": 0
   }
  }
 },
 "nbformat": 4,
 "nbformat_minor": 5
}
